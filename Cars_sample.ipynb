{
 "cells": [
  {
   "cell_type": "code",
   "execution_count": 1,
   "metadata": {},
   "outputs": [],
   "source": [
    "import pandas as pd\n",
    "import numpy as np\n",
    "import matplotlib.pyplot as plt\n",
    "import seaborn as sns"
   ]
  },
  {
   "cell_type": "code",
   "execution_count": 2,
   "metadata": {},
   "outputs": [],
   "source": [
    "df=pd.read_csv('cars_sampled.csv')"
   ]
  },
  {
   "cell_type": "code",
   "execution_count": 3,
   "metadata": {},
   "outputs": [
    {
     "data": {
      "text/html": [
       "<div>\n",
       "<style scoped>\n",
       "    .dataframe tbody tr th:only-of-type {\n",
       "        vertical-align: middle;\n",
       "    }\n",
       "\n",
       "    .dataframe tbody tr th {\n",
       "        vertical-align: top;\n",
       "    }\n",
       "\n",
       "    .dataframe thead th {\n",
       "        text-align: right;\n",
       "    }\n",
       "</style>\n",
       "<table border=\"1\" class=\"dataframe\">\n",
       "  <thead>\n",
       "    <tr style=\"text-align: right;\">\n",
       "      <th></th>\n",
       "      <th>dateCrawled</th>\n",
       "      <th>name</th>\n",
       "      <th>seller</th>\n",
       "      <th>offerType</th>\n",
       "      <th>price</th>\n",
       "      <th>abtest</th>\n",
       "      <th>vehicleType</th>\n",
       "      <th>yearOfRegistration</th>\n",
       "      <th>gearbox</th>\n",
       "      <th>powerPS</th>\n",
       "      <th>model</th>\n",
       "      <th>kilometer</th>\n",
       "      <th>monthOfRegistration</th>\n",
       "      <th>fuelType</th>\n",
       "      <th>brand</th>\n",
       "      <th>notRepairedDamage</th>\n",
       "      <th>dateCreated</th>\n",
       "      <th>postalCode</th>\n",
       "      <th>lastSeen</th>\n",
       "    </tr>\n",
       "  </thead>\n",
       "  <tbody>\n",
       "    <tr>\n",
       "      <th>0</th>\n",
       "      <td>30/03/2016 13:51</td>\n",
       "      <td>Zu_verkaufen</td>\n",
       "      <td>private</td>\n",
       "      <td>offer</td>\n",
       "      <td>4450</td>\n",
       "      <td>test</td>\n",
       "      <td>limousine</td>\n",
       "      <td>2003</td>\n",
       "      <td>manual</td>\n",
       "      <td>150</td>\n",
       "      <td>3er</td>\n",
       "      <td>150000</td>\n",
       "      <td>3</td>\n",
       "      <td>diesel</td>\n",
       "      <td>bmw</td>\n",
       "      <td>NaN</td>\n",
       "      <td>30/03/2016 0:00</td>\n",
       "      <td>20257</td>\n",
       "      <td>7/4/2016 4:44</td>\n",
       "    </tr>\n",
       "    <tr>\n",
       "      <th>1</th>\n",
       "      <td>7/3/2016 9:54</td>\n",
       "      <td>Volvo_XC90_2.4D_Summum</td>\n",
       "      <td>private</td>\n",
       "      <td>offer</td>\n",
       "      <td>13299</td>\n",
       "      <td>control</td>\n",
       "      <td>suv</td>\n",
       "      <td>2005</td>\n",
       "      <td>manual</td>\n",
       "      <td>163</td>\n",
       "      <td>xc_reihe</td>\n",
       "      <td>150000</td>\n",
       "      <td>6</td>\n",
       "      <td>diesel</td>\n",
       "      <td>volvo</td>\n",
       "      <td>no</td>\n",
       "      <td>7/3/2016 0:00</td>\n",
       "      <td>88045</td>\n",
       "      <td>26/03/2016 13:17</td>\n",
       "    </tr>\n",
       "    <tr>\n",
       "      <th>2</th>\n",
       "      <td>1/4/2016 0:57</td>\n",
       "      <td>Volkswagen_Touran</td>\n",
       "      <td>private</td>\n",
       "      <td>offer</td>\n",
       "      <td>3200</td>\n",
       "      <td>test</td>\n",
       "      <td>bus</td>\n",
       "      <td>2003</td>\n",
       "      <td>manual</td>\n",
       "      <td>101</td>\n",
       "      <td>touran</td>\n",
       "      <td>150000</td>\n",
       "      <td>11</td>\n",
       "      <td>diesel</td>\n",
       "      <td>volkswagen</td>\n",
       "      <td>NaN</td>\n",
       "      <td>31/03/2016 0:00</td>\n",
       "      <td>27449</td>\n",
       "      <td>1/4/2016 8:40</td>\n",
       "    </tr>\n",
       "    <tr>\n",
       "      <th>3</th>\n",
       "      <td>19/03/2016 17:50</td>\n",
       "      <td>Seat_Ibiza_1.4_16V_Reference</td>\n",
       "      <td>private</td>\n",
       "      <td>offer</td>\n",
       "      <td>4500</td>\n",
       "      <td>control</td>\n",
       "      <td>small car</td>\n",
       "      <td>2006</td>\n",
       "      <td>manual</td>\n",
       "      <td>86</td>\n",
       "      <td>ibiza</td>\n",
       "      <td>60000</td>\n",
       "      <td>12</td>\n",
       "      <td>petrol</td>\n",
       "      <td>seat</td>\n",
       "      <td>no</td>\n",
       "      <td>19/03/2016 0:00</td>\n",
       "      <td>34537</td>\n",
       "      <td>7/4/2016 4:44</td>\n",
       "    </tr>\n",
       "    <tr>\n",
       "      <th>4</th>\n",
       "      <td>16/03/2016 14:51</td>\n",
       "      <td>Volvo_XC90_D5_Aut._RDesign_R_Design_AWD_GSHD_S...</td>\n",
       "      <td>private</td>\n",
       "      <td>offer</td>\n",
       "      <td>18750</td>\n",
       "      <td>test</td>\n",
       "      <td>suv</td>\n",
       "      <td>2008</td>\n",
       "      <td>automatic</td>\n",
       "      <td>185</td>\n",
       "      <td>xc_reihe</td>\n",
       "      <td>150000</td>\n",
       "      <td>11</td>\n",
       "      <td>diesel</td>\n",
       "      <td>volvo</td>\n",
       "      <td>no</td>\n",
       "      <td>16/03/2016 0:00</td>\n",
       "      <td>55270</td>\n",
       "      <td>1/4/2016 23:18</td>\n",
       "    </tr>\n",
       "  </tbody>\n",
       "</table>\n",
       "</div>"
      ],
      "text/plain": [
       "        dateCrawled                                               name  \\\n",
       "0  30/03/2016 13:51                                       Zu_verkaufen   \n",
       "1     7/3/2016 9:54                             Volvo_XC90_2.4D_Summum   \n",
       "2     1/4/2016 0:57                                  Volkswagen_Touran   \n",
       "3  19/03/2016 17:50                       Seat_Ibiza_1.4_16V_Reference   \n",
       "4  16/03/2016 14:51  Volvo_XC90_D5_Aut._RDesign_R_Design_AWD_GSHD_S...   \n",
       "\n",
       "    seller offerType  price   abtest vehicleType  yearOfRegistration  \\\n",
       "0  private     offer   4450     test   limousine                2003   \n",
       "1  private     offer  13299  control         suv                2005   \n",
       "2  private     offer   3200     test         bus                2003   \n",
       "3  private     offer   4500  control   small car                2006   \n",
       "4  private     offer  18750     test         suv                2008   \n",
       "\n",
       "     gearbox  powerPS     model  kilometer  monthOfRegistration fuelType  \\\n",
       "0     manual      150       3er     150000                    3   diesel   \n",
       "1     manual      163  xc_reihe     150000                    6   diesel   \n",
       "2     manual      101    touran     150000                   11   diesel   \n",
       "3     manual       86     ibiza      60000                   12   petrol   \n",
       "4  automatic      185  xc_reihe     150000                   11   diesel   \n",
       "\n",
       "        brand notRepairedDamage      dateCreated  postalCode          lastSeen  \n",
       "0         bmw               NaN  30/03/2016 0:00       20257     7/4/2016 4:44  \n",
       "1       volvo                no    7/3/2016 0:00       88045  26/03/2016 13:17  \n",
       "2  volkswagen               NaN  31/03/2016 0:00       27449     1/4/2016 8:40  \n",
       "3        seat                no  19/03/2016 0:00       34537     7/4/2016 4:44  \n",
       "4       volvo                no  16/03/2016 0:00       55270    1/4/2016 23:18  "
      ]
     },
     "execution_count": 3,
     "metadata": {},
     "output_type": "execute_result"
    }
   ],
   "source": [
    "df.head()"
   ]
  },
  {
   "cell_type": "code",
   "execution_count": 4,
   "metadata": {},
   "outputs": [],
   "source": [
    "df=df.drop(['dateCrawled','dateCreated','postalCode','lastSeen','monthOfRegistration','name','model','offerType','notRepairedDamage'],axis=1)"
   ]
  },
  {
   "cell_type": "code",
   "execution_count": 5,
   "metadata": {},
   "outputs": [],
   "source": [
    "df.drop_duplicates(keep='first',inplace=True)"
   ]
  },
  {
   "cell_type": "code",
   "execution_count": 6,
   "metadata": {},
   "outputs": [
    {
     "data": {
      "text/plain": [
       "(48777, 10)"
      ]
     },
     "execution_count": 6,
     "metadata": {},
     "output_type": "execute_result"
    }
   ],
   "source": [
    "df.shape"
   ]
  },
  {
   "cell_type": "code",
   "execution_count": 7,
   "metadata": {},
   "outputs": [
    {
     "data": {
      "text/html": [
       "<div>\n",
       "<style scoped>\n",
       "    .dataframe tbody tr th:only-of-type {\n",
       "        vertical-align: middle;\n",
       "    }\n",
       "\n",
       "    .dataframe tbody tr th {\n",
       "        vertical-align: top;\n",
       "    }\n",
       "\n",
       "    .dataframe thead th {\n",
       "        text-align: right;\n",
       "    }\n",
       "</style>\n",
       "<table border=\"1\" class=\"dataframe\">\n",
       "  <thead>\n",
       "    <tr style=\"text-align: right;\">\n",
       "      <th></th>\n",
       "      <th>price</th>\n",
       "      <th>yearOfRegistration</th>\n",
       "      <th>powerPS</th>\n",
       "      <th>kilometer</th>\n",
       "    </tr>\n",
       "  </thead>\n",
       "  <tbody>\n",
       "    <tr>\n",
       "      <th>count</th>\n",
       "      <td>4.877700e+04</td>\n",
       "      <td>48777.000000</td>\n",
       "      <td>48777.000000</td>\n",
       "      <td>48777.000000</td>\n",
       "    </tr>\n",
       "    <tr>\n",
       "      <th>mean</th>\n",
       "      <td>6.635186e+03</td>\n",
       "      <td>2005.629375</td>\n",
       "      <td>117.006171</td>\n",
       "      <td>125348.934949</td>\n",
       "    </tr>\n",
       "    <tr>\n",
       "      <th>std</th>\n",
       "      <td>8.688379e+04</td>\n",
       "      <td>124.520114</td>\n",
       "      <td>233.188674</td>\n",
       "      <td>40339.749804</td>\n",
       "    </tr>\n",
       "    <tr>\n",
       "      <th>min</th>\n",
       "      <td>0.000000e+00</td>\n",
       "      <td>1000.000000</td>\n",
       "      <td>0.000000</td>\n",
       "      <td>5000.000000</td>\n",
       "    </tr>\n",
       "    <tr>\n",
       "      <th>25%</th>\n",
       "      <td>1.190000e+03</td>\n",
       "      <td>1999.000000</td>\n",
       "      <td>70.000000</td>\n",
       "      <td>100000.000000</td>\n",
       "    </tr>\n",
       "    <tr>\n",
       "      <th>50%</th>\n",
       "      <td>2.999000e+03</td>\n",
       "      <td>2003.000000</td>\n",
       "      <td>106.000000</td>\n",
       "      <td>150000.000000</td>\n",
       "    </tr>\n",
       "    <tr>\n",
       "      <th>75%</th>\n",
       "      <td>7.250000e+03</td>\n",
       "      <td>2008.000000</td>\n",
       "      <td>150.000000</td>\n",
       "      <td>150000.000000</td>\n",
       "    </tr>\n",
       "    <tr>\n",
       "      <th>max</th>\n",
       "      <td>1.234568e+07</td>\n",
       "      <td>9999.000000</td>\n",
       "      <td>19312.000000</td>\n",
       "      <td>150000.000000</td>\n",
       "    </tr>\n",
       "  </tbody>\n",
       "</table>\n",
       "</div>"
      ],
      "text/plain": [
       "              price  yearOfRegistration       powerPS      kilometer\n",
       "count  4.877700e+04        48777.000000  48777.000000   48777.000000\n",
       "mean   6.635186e+03         2005.629375    117.006171  125348.934949\n",
       "std    8.688379e+04          124.520114    233.188674   40339.749804\n",
       "min    0.000000e+00         1000.000000      0.000000    5000.000000\n",
       "25%    1.190000e+03         1999.000000     70.000000  100000.000000\n",
       "50%    2.999000e+03         2003.000000    106.000000  150000.000000\n",
       "75%    7.250000e+03         2008.000000    150.000000  150000.000000\n",
       "max    1.234568e+07         9999.000000  19312.000000  150000.000000"
      ]
     },
     "execution_count": 7,
     "metadata": {},
     "output_type": "execute_result"
    }
   ],
   "source": [
    "df.describe()"
   ]
  },
  {
   "cell_type": "code",
   "execution_count": 8,
   "metadata": {},
   "outputs": [],
   "source": [
    "import datetime\n",
    "df=df[(df['yearOfRegistration']<(datetime.datetime.now().year)) & (df['yearOfRegistration']>1950)]"
   ]
  },
  {
   "cell_type": "code",
   "execution_count": 9,
   "metadata": {},
   "outputs": [
    {
     "data": {
      "text/plain": [
       "(48711, 10)"
      ]
     },
     "execution_count": 9,
     "metadata": {},
     "output_type": "execute_result"
    }
   ],
   "source": [
    "df.shape"
   ]
  },
  {
   "cell_type": "code",
   "execution_count": 10,
   "metadata": {},
   "outputs": [],
   "source": [
    "df['totalyears']=datetime.datetime.now().year-df['yearOfRegistration']"
   ]
  },
  {
   "cell_type": "code",
   "execution_count": 11,
   "metadata": {},
   "outputs": [],
   "source": [
    "df=df.drop(['yearOfRegistration'],axis=1)"
   ]
  },
  {
   "cell_type": "code",
   "execution_count": 12,
   "metadata": {},
   "outputs": [],
   "source": [
    "df=df[(df['powerPS']<250) & (df['powerPS']>10)]"
   ]
  },
  {
   "cell_type": "code",
   "execution_count": 13,
   "metadata": {},
   "outputs": [
    {
     "data": {
      "text/plain": [
       "(41410, 10)"
      ]
     },
     "execution_count": 13,
     "metadata": {},
     "output_type": "execute_result"
    }
   ],
   "source": [
    "df.shape"
   ]
  },
  {
   "cell_type": "code",
   "execution_count": 14,
   "metadata": {},
   "outputs": [],
   "source": [
    "q1,q3=df['price'].quantile([0.25,0.75])"
   ]
  },
  {
   "cell_type": "code",
   "execution_count": 15,
   "metadata": {},
   "outputs": [
    {
     "name": "stdout",
     "output_type": "stream",
     "text": [
      "5800.0 1300.0 7100.0\n"
     ]
    }
   ],
   "source": [
    "IQR=q3-q1\n",
    "print(IQR,q1,q3)"
   ]
  },
  {
   "cell_type": "code",
   "execution_count": 16,
   "metadata": {},
   "outputs": [],
   "source": [
    "df=df[(df['price']>4000) & (df['price']<14000)]"
   ]
  },
  {
   "cell_type": "code",
   "execution_count": 17,
   "metadata": {},
   "outputs": [
    {
     "data": {
      "text/plain": [
       "(13580, 10)"
      ]
     },
     "execution_count": 17,
     "metadata": {},
     "output_type": "execute_result"
    }
   ],
   "source": [
    "df.shape"
   ]
  },
  {
   "cell_type": "code",
   "execution_count": 18,
   "metadata": {},
   "outputs": [
    {
     "data": {
      "text/html": [
       "<div>\n",
       "<style scoped>\n",
       "    .dataframe tbody tr th:only-of-type {\n",
       "        vertical-align: middle;\n",
       "    }\n",
       "\n",
       "    .dataframe tbody tr th {\n",
       "        vertical-align: top;\n",
       "    }\n",
       "\n",
       "    .dataframe thead th {\n",
       "        text-align: right;\n",
       "    }\n",
       "</style>\n",
       "<table border=\"1\" class=\"dataframe\">\n",
       "  <thead>\n",
       "    <tr style=\"text-align: right;\">\n",
       "      <th></th>\n",
       "      <th>price</th>\n",
       "      <th>powerPS</th>\n",
       "      <th>kilometer</th>\n",
       "      <th>totalyears</th>\n",
       "    </tr>\n",
       "  </thead>\n",
       "  <tbody>\n",
       "    <tr>\n",
       "      <th>count</th>\n",
       "      <td>13580.000000</td>\n",
       "      <td>13580.000000</td>\n",
       "      <td>13580.000000</td>\n",
       "      <td>13580.000000</td>\n",
       "    </tr>\n",
       "    <tr>\n",
       "      <th>mean</th>\n",
       "      <td>7704.613034</td>\n",
       "      <td>134.823564</td>\n",
       "      <td>116941.458027</td>\n",
       "      <td>13.732548</td>\n",
       "    </tr>\n",
       "    <tr>\n",
       "      <th>std</th>\n",
       "      <td>2697.658712</td>\n",
       "      <td>43.988493</td>\n",
       "      <td>41537.741097</td>\n",
       "      <td>6.307092</td>\n",
       "    </tr>\n",
       "    <tr>\n",
       "      <th>min</th>\n",
       "      <td>4005.000000</td>\n",
       "      <td>11.000000</td>\n",
       "      <td>5000.000000</td>\n",
       "      <td>2.000000</td>\n",
       "    </tr>\n",
       "    <tr>\n",
       "      <th>25%</th>\n",
       "      <td>5490.000000</td>\n",
       "      <td>105.000000</td>\n",
       "      <td>90000.000000</td>\n",
       "      <td>11.000000</td>\n",
       "    </tr>\n",
       "    <tr>\n",
       "      <th>50%</th>\n",
       "      <td>7000.000000</td>\n",
       "      <td>136.000000</td>\n",
       "      <td>150000.000000</td>\n",
       "      <td>13.000000</td>\n",
       "    </tr>\n",
       "    <tr>\n",
       "      <th>75%</th>\n",
       "      <td>9500.000000</td>\n",
       "      <td>163.000000</td>\n",
       "      <td>150000.000000</td>\n",
       "      <td>15.000000</td>\n",
       "    </tr>\n",
       "    <tr>\n",
       "      <th>max</th>\n",
       "      <td>13999.000000</td>\n",
       "      <td>249.000000</td>\n",
       "      <td>150000.000000</td>\n",
       "      <td>69.000000</td>\n",
       "    </tr>\n",
       "  </tbody>\n",
       "</table>\n",
       "</div>"
      ],
      "text/plain": [
       "              price       powerPS      kilometer    totalyears\n",
       "count  13580.000000  13580.000000   13580.000000  13580.000000\n",
       "mean    7704.613034    134.823564  116941.458027     13.732548\n",
       "std     2697.658712     43.988493   41537.741097      6.307092\n",
       "min     4005.000000     11.000000    5000.000000      2.000000\n",
       "25%     5490.000000    105.000000   90000.000000     11.000000\n",
       "50%     7000.000000    136.000000  150000.000000     13.000000\n",
       "75%     9500.000000    163.000000  150000.000000     15.000000\n",
       "max    13999.000000    249.000000  150000.000000     69.000000"
      ]
     },
     "execution_count": 18,
     "metadata": {},
     "output_type": "execute_result"
    }
   ],
   "source": [
    "df.describe()"
   ]
  },
  {
   "cell_type": "code",
   "execution_count": 19,
   "metadata": {},
   "outputs": [
    {
     "data": {
      "image/png": "[encoded data removed]",
      "text/plain": [
       "<Figure size 720x360 with 2 Axes>"
      ]
     },
     "metadata": {
      "needs_background": "light"
     },
     "output_type": "display_data"
    }
   ],
   "source": [
    "fig=plt.figure(figsize=(10,5))\n",
    "plt.subplot(1,2,1)\n",
    "sns.boxplot(y=df['powerPS'])\n",
    "plt.subplot(1,2,2)\n",
    "sns.distplot(df['powerPS'])\n",
    "plt.show()"
   ]
  },
  {
   "cell_type": "code",
   "execution_count": 20,
   "metadata": {},
   "outputs": [
    {
     "data": {
      "image/png": "[encoded data removed]",
      "text/plain": [
       "<Figure size 720x360 with 2 Axes>"
      ]
     },
     "metadata": {
      "needs_background": "light"
     },
     "output_type": "display_data"
    }
   ],
   "source": [
    "fig=plt.figure(figsize=(10,5))\n",
    "plt.subplot(1,2,1)\n",
    "sns.boxplot(y=df['price'])\n",
    "plt.subplot(1,2,2)\n",
    "sns.distplot(df['price'])\n",
    "plt.show()"
   ]
  },
  {
   "cell_type": "code",
   "execution_count": 21,
   "metadata": {},
   "outputs": [
    {
     "data": {
      "image/png": "[encoded data removed]",
      "text/plain": [
       "<Figure size 720x360 with 2 Axes>"
      ]
     },
     "metadata": {
      "needs_background": "light"
     },
     "output_type": "display_data"
    }
   ],
   "source": [
    "fig=plt.figure(figsize=(10,5))\n",
    "plt.subplot(1,2,1)\n",
    "sns.boxplot(y=df['totalyears'])\n",
    "plt.subplot(1,2,2)\n",
    "sns.distplot(df['totalyears'])\n",
    "plt.show()"
   ]
  },
  {
   "cell_type": "code",
   "execution_count": 22,
   "metadata": {},
   "outputs": [
    {
     "data": {
      "text/plain": [
       "<function matplotlib.pyplot.show(*args, **kw)>"
      ]
     },
     "execution_count": 22,
     "metadata": {},
     "output_type": "execute_result"
    },
    {
     "data": {
      "image/png": "[encoded data removed]",
      "text/plain": [
       "<Figure size 432x288 with 1 Axes>"
      ]
     },
     "metadata": {
      "needs_background": "light"
     },
     "output_type": "display_data"
    }
   ],
   "source": [
    "plt.scatter(df['price'],df['totalyears'])\n",
    "plt.title('price Vs totalyears')\n",
    "plt.show"
   ]
  },
  {
   "cell_type": "code",
   "execution_count": 23,
   "metadata": {},
   "outputs": [
    {
     "data": {
      "text/plain": [
       "<function matplotlib.pyplot.show(*args, **kw)>"
      ]
     },
     "execution_count": 23,
     "metadata": {},
     "output_type": "execute_result"
    },
    {
     "data": {
      "image/png": "[encoded data removed]",
      "text/plain": [
       "<Figure size 432x288 with 1 Axes>"
      ]
     },
     "metadata": {
      "needs_background": "light"
     },
     "output_type": "display_data"
    }
   ],
   "source": [
    "plt.scatter(df['price'],df['powerPS'])\n",
    "plt.title('price Vs powerPS')\n",
    "plt.show"
   ]
  },
  {
   "cell_type": "code",
   "execution_count": 24,
   "metadata": {},
   "outputs": [
    {
     "data": {
      "text/html": [
       "<div>\n",
       "<style scoped>\n",
       "    .dataframe tbody tr th:only-of-type {\n",
       "        vertical-align: middle;\n",
       "    }\n",
       "\n",
       "    .dataframe tbody tr th {\n",
       "        vertical-align: top;\n",
       "    }\n",
       "\n",
       "    .dataframe thead th {\n",
       "        text-align: right;\n",
       "    }\n",
       "</style>\n",
       "<table border=\"1\" class=\"dataframe\">\n",
       "  <thead>\n",
       "    <tr style=\"text-align: right;\">\n",
       "      <th></th>\n",
       "      <th>seller</th>\n",
       "      <th>price</th>\n",
       "      <th>abtest</th>\n",
       "      <th>vehicleType</th>\n",
       "      <th>gearbox</th>\n",
       "      <th>powerPS</th>\n",
       "      <th>kilometer</th>\n",
       "      <th>fuelType</th>\n",
       "      <th>brand</th>\n",
       "      <th>totalyears</th>\n",
       "    </tr>\n",
       "  </thead>\n",
       "  <tbody>\n",
       "    <tr>\n",
       "      <th>0</th>\n",
       "      <td>private</td>\n",
       "      <td>4450</td>\n",
       "      <td>test</td>\n",
       "      <td>limousine</td>\n",
       "      <td>manual</td>\n",
       "      <td>150</td>\n",
       "      <td>150000</td>\n",
       "      <td>diesel</td>\n",
       "      <td>bmw</td>\n",
       "      <td>17</td>\n",
       "    </tr>\n",
       "    <tr>\n",
       "      <th>1</th>\n",
       "      <td>private</td>\n",
       "      <td>13299</td>\n",
       "      <td>control</td>\n",
       "      <td>suv</td>\n",
       "      <td>manual</td>\n",
       "      <td>163</td>\n",
       "      <td>150000</td>\n",
       "      <td>diesel</td>\n",
       "      <td>volvo</td>\n",
       "      <td>15</td>\n",
       "    </tr>\n",
       "    <tr>\n",
       "      <th>3</th>\n",
       "      <td>private</td>\n",
       "      <td>4500</td>\n",
       "      <td>control</td>\n",
       "      <td>small car</td>\n",
       "      <td>manual</td>\n",
       "      <td>86</td>\n",
       "      <td>60000</td>\n",
       "      <td>petrol</td>\n",
       "      <td>seat</td>\n",
       "      <td>14</td>\n",
       "    </tr>\n",
       "    <tr>\n",
       "      <th>8</th>\n",
       "      <td>private</td>\n",
       "      <td>4680</td>\n",
       "      <td>test</td>\n",
       "      <td>station wagon</td>\n",
       "      <td>manual</td>\n",
       "      <td>122</td>\n",
       "      <td>150000</td>\n",
       "      <td>petrol</td>\n",
       "      <td>opel</td>\n",
       "      <td>15</td>\n",
       "    </tr>\n",
       "    <tr>\n",
       "      <th>9</th>\n",
       "      <td>private</td>\n",
       "      <td>8340</td>\n",
       "      <td>test</td>\n",
       "      <td>limousine</td>\n",
       "      <td>automatic</td>\n",
       "      <td>140</td>\n",
       "      <td>125000</td>\n",
       "      <td>diesel</td>\n",
       "      <td>skoda</td>\n",
       "      <td>15</td>\n",
       "    </tr>\n",
       "  </tbody>\n",
       "</table>\n",
       "</div>"
      ],
      "text/plain": [
       "    seller  price   abtest    vehicleType    gearbox  powerPS  kilometer  \\\n",
       "0  private   4450     test      limousine     manual      150     150000   \n",
       "1  private  13299  control            suv     manual      163     150000   \n",
       "3  private   4500  control      small car     manual       86      60000   \n",
       "8  private   4680     test  station wagon     manual      122     150000   \n",
       "9  private   8340     test      limousine  automatic      140     125000   \n",
       "\n",
       "  fuelType  brand  totalyears  \n",
       "0   diesel    bmw          17  \n",
       "1   diesel  volvo          15  \n",
       "3   petrol   seat          14  \n",
       "8   petrol   opel          15  \n",
       "9   diesel  skoda          15  "
      ]
     },
     "execution_count": 24,
     "metadata": {},
     "output_type": "execute_result"
    }
   ],
   "source": [
    "df.head()"
   ]
  },
  {
   "cell_type": "code",
   "execution_count": 25,
   "metadata": {},
   "outputs": [
    {
     "data": {
      "text/plain": [
       "seller           0\n",
       "price            0\n",
       "abtest           0\n",
       "vehicleType    606\n",
       "gearbox        177\n",
       "powerPS          0\n",
       "kilometer        0\n",
       "fuelType       496\n",
       "brand            0\n",
       "totalyears       0\n",
       "dtype: int64"
      ]
     },
     "execution_count": 25,
     "metadata": {},
     "output_type": "execute_result"
    }
   ],
   "source": [
    "df.isnull().sum()"
   ]
  },
  {
   "cell_type": "code",
   "execution_count": 26,
   "metadata": {},
   "outputs": [],
   "source": [
    "df1=df[(df['vehicleType'].isnull()) & (df['gearbox'].isnull()) & (df['fuelType'].isnull())]"
   ]
  },
  {
   "cell_type": "code",
   "execution_count": 27,
   "metadata": {},
   "outputs": [
    {
     "data": {
      "text/plain": [
       "(13580, 10)"
      ]
     },
     "execution_count": 27,
     "metadata": {},
     "output_type": "execute_result"
    }
   ],
   "source": [
    "df.shape"
   ]
  },
  {
   "cell_type": "code",
   "execution_count": 28,
   "metadata": {},
   "outputs": [],
   "source": [
    "df3=pd.concat([df,df1,df1]).drop_duplicates(keep=False)"
   ]
  },
  {
   "cell_type": "code",
   "execution_count": 29,
   "metadata": {},
   "outputs": [
    {
     "data": {
      "text/plain": [
       "(13562, 10)"
      ]
     },
     "execution_count": 29,
     "metadata": {},
     "output_type": "execute_result"
    }
   ],
   "source": [
    "df3.shape"
   ]
  },
  {
   "cell_type": "code",
   "execution_count": 30,
   "metadata": {},
   "outputs": [
    {
     "data": {
      "text/plain": [
       "seller           0\n",
       "price            0\n",
       "abtest           0\n",
       "vehicleType    588\n",
       "gearbox        159\n",
       "powerPS          0\n",
       "kilometer        0\n",
       "fuelType       478\n",
       "brand            0\n",
       "totalyears       0\n",
       "dtype: int64"
      ]
     },
     "execution_count": 30,
     "metadata": {},
     "output_type": "execute_result"
    }
   ],
   "source": [
    "df3.isnull().sum()"
   ]
  },
  {
   "cell_type": "code",
   "execution_count": 31,
   "metadata": {},
   "outputs": [],
   "source": [
    "def impute_nan(df,variable):\n",
    "    df[variable+\"_random\"]=df[variable]\n",
    "    random_sample=df[variable].dropna().sample(df[variable].isnull().sum(),random_state=0)\n",
    "    random_sample.index=df[df[variable].isnull()].index\n",
    "    df.loc[df[variable].isnull(),variable+'_random']=random_sample"
   ]
  },
  {
   "cell_type": "code",
   "execution_count": 32,
   "metadata": {},
   "outputs": [],
   "source": [
    "impute_nan(df3,'gearbox')"
   ]
  },
  {
   "cell_type": "code",
   "execution_count": 34,
   "metadata": {},
   "outputs": [
    {
     "data": {
      "text/plain": [
       "petrol     6993\n",
       "diesel     5828\n",
       "lpg         203\n",
       "cng          32\n",
       "hybrid       19\n",
       "electro       8\n",
       "other         1\n",
       "Name: fuelType, dtype: int64"
      ]
     },
     "execution_count": 34,
     "metadata": {},
     "output_type": "execute_result"
    }
   ],
   "source": [
    "df3['fuelType'].value_counts()"
   ]
  },
  {
   "cell_type": "code",
   "execution_count": 35,
   "metadata": {},
   "outputs": [],
   "source": [
    "impute_nan(df3,'fuelType')"
   ]
  },
  {
   "cell_type": "code",
   "execution_count": 37,
   "metadata": {},
   "outputs": [
    {
     "data": {
      "text/plain": [
       "petrol     7267\n",
       "diesel     6021\n",
       "lpg         211\n",
       "cng          33\n",
       "hybrid       21\n",
       "electro       8\n",
       "other         1\n",
       "Name: fuelType_random, dtype: int64"
      ]
     },
     "execution_count": 37,
     "metadata": {},
     "output_type": "execute_result"
    }
   ],
   "source": [
    "df3['fuelType_random'].value_counts()"
   ]
  },
  {
   "cell_type": "code",
   "execution_count": 38,
   "metadata": {},
   "outputs": [],
   "source": [
    "impute_nan(df3,'vehicleType')"
   ]
  },
  {
   "cell_type": "code",
   "execution_count": 40,
   "metadata": {},
   "outputs": [],
   "source": [
    "df3=df3.drop(['vehicleType','fuelType','gearbox'],axis=1)"
   ]
  },
  {
   "cell_type": "code",
   "execution_count": 41,
   "metadata": {},
   "outputs": [
    {
     "data": {
      "text/html": [
       "<div>\n",
       "<style scoped>\n",
       "    .dataframe tbody tr th:only-of-type {\n",
       "        vertical-align: middle;\n",
       "    }\n",
       "\n",
       "    .dataframe tbody tr th {\n",
       "        vertical-align: top;\n",
       "    }\n",
       "\n",
       "    .dataframe thead th {\n",
       "        text-align: right;\n",
       "    }\n",
       "</style>\n",
       "<table border=\"1\" class=\"dataframe\">\n",
       "  <thead>\n",
       "    <tr style=\"text-align: right;\">\n",
       "      <th></th>\n",
       "      <th>seller</th>\n",
       "      <th>price</th>\n",
       "      <th>abtest</th>\n",
       "      <th>powerPS</th>\n",
       "      <th>kilometer</th>\n",
       "      <th>brand</th>\n",
       "      <th>totalyears</th>\n",
       "      <th>gearbox_random</th>\n",
       "      <th>fuelType_random</th>\n",
       "      <th>vehicleType_random</th>\n",
       "    </tr>\n",
       "  </thead>\n",
       "  <tbody>\n",
       "    <tr>\n",
       "      <th>0</th>\n",
       "      <td>private</td>\n",
       "      <td>4450</td>\n",
       "      <td>test</td>\n",
       "      <td>150</td>\n",
       "      <td>150000</td>\n",
       "      <td>bmw</td>\n",
       "      <td>17</td>\n",
       "      <td>manual</td>\n",
       "      <td>diesel</td>\n",
       "      <td>limousine</td>\n",
       "    </tr>\n",
       "    <tr>\n",
       "      <th>1</th>\n",
       "      <td>private</td>\n",
       "      <td>13299</td>\n",
       "      <td>control</td>\n",
       "      <td>163</td>\n",
       "      <td>150000</td>\n",
       "      <td>volvo</td>\n",
       "      <td>15</td>\n",
       "      <td>manual</td>\n",
       "      <td>diesel</td>\n",
       "      <td>suv</td>\n",
       "    </tr>\n",
       "    <tr>\n",
       "      <th>3</th>\n",
       "      <td>private</td>\n",
       "      <td>4500</td>\n",
       "      <td>control</td>\n",
       "      <td>86</td>\n",
       "      <td>60000</td>\n",
       "      <td>seat</td>\n",
       "      <td>14</td>\n",
       "      <td>manual</td>\n",
       "      <td>petrol</td>\n",
       "      <td>small car</td>\n",
       "    </tr>\n",
       "    <tr>\n",
       "      <th>8</th>\n",
       "      <td>private</td>\n",
       "      <td>4680</td>\n",
       "      <td>test</td>\n",
       "      <td>122</td>\n",
       "      <td>150000</td>\n",
       "      <td>opel</td>\n",
       "      <td>15</td>\n",
       "      <td>manual</td>\n",
       "      <td>petrol</td>\n",
       "      <td>station wagon</td>\n",
       "    </tr>\n",
       "    <tr>\n",
       "      <th>9</th>\n",
       "      <td>private</td>\n",
       "      <td>8340</td>\n",
       "      <td>test</td>\n",
       "      <td>140</td>\n",
       "      <td>125000</td>\n",
       "      <td>skoda</td>\n",
       "      <td>15</td>\n",
       "      <td>automatic</td>\n",
       "      <td>diesel</td>\n",
       "      <td>limousine</td>\n",
       "    </tr>\n",
       "  </tbody>\n",
       "</table>\n",
       "</div>"
      ],
      "text/plain": [
       "    seller  price   abtest  powerPS  kilometer  brand  totalyears  \\\n",
       "0  private   4450     test      150     150000    bmw          17   \n",
       "1  private  13299  control      163     150000  volvo          15   \n",
       "3  private   4500  control       86      60000   seat          14   \n",
       "8  private   4680     test      122     150000   opel          15   \n",
       "9  private   8340     test      140     125000  skoda          15   \n",
       "\n",
       "  gearbox_random fuelType_random vehicleType_random  \n",
       "0         manual          diesel          limousine  \n",
       "1         manual          diesel                suv  \n",
       "3         manual          petrol          small car  \n",
       "8         manual          petrol      station wagon  \n",
       "9      automatic          diesel          limousine  "
      ]
     },
     "execution_count": 41,
     "metadata": {},
     "output_type": "execute_result"
    }
   ],
   "source": [
    "df3.head()"
   ]
  },
  {
   "cell_type": "code",
   "execution_count": 43,
   "metadata": {},
   "outputs": [
    {
     "name": "stdout",
     "output_type": "stream",
     "text": [
      "seller [private]\n",
      "Categories (1, object): [private]\n",
      "abtest [test, control]\n",
      "Categories (2, object): [test, control]\n",
      "vehicleType_random [limousine, suv, small car, station wagon, others, coupe, cabrio, bus]\n",
      "Categories (8, object): [limousine, suv, small car, station wagon, others, coupe, cabrio, bus]\n",
      "gearbox_random [manual, automatic]\n",
      "Categories (2, object): [manual, automatic]\n",
      "fuelType_random [diesel, petrol, cng, lpg, hybrid, electro, other]\n",
      "Categories (7, object): [diesel, petrol, cng, lpg, hybrid, electro, other]\n",
      "brand [bmw, volvo, seat, opel, skoda, ..., lancia, trabant, land_rover, rover, daihatsu]\n",
      "Length: 39\n",
      "Categories (39, object): [bmw, volvo, seat, opel, ..., trabant, land_rover, rover, daihatsu]\n"
     ]
    }
   ],
   "source": [
    "col=['seller','abtest','vehicleType_random','gearbox_random','fuelType_random','brand']\n",
    "for i in col:\n",
    "    df3[i]=df3[i].astype('category')\n",
    "    print(i , df3[i].unique())"
   ]
  },
  {
   "cell_type": "code",
   "execution_count": 96,
   "metadata": {},
   "outputs": [
    {
     "data": {
      "text/plain": [
       "['bmw',\n",
       " 'volvo',\n",
       " 'seat',\n",
       " 'opel',\n",
       " 'skoda',\n",
       " 'sonstige_autos',\n",
       " 'mercedes_benz',\n",
       " 'volkswagen',\n",
       " 'mini',\n",
       " 'ford',\n",
       " 'audi',\n",
       " 'alfa_romeo',\n",
       " 'renault',\n",
       " 'dacia',\n",
       " 'fiat',\n",
       " 'jeep',\n",
       " 'chevrolet',\n",
       " 'nissan',\n",
       " 'peugeot',\n",
       " 'mazda',\n",
       " 'smart',\n",
       " 'hyundai',\n",
       " 'kia',\n",
       " 'citroen',\n",
       " 'toyota',\n",
       " 'suzuki',\n",
       " 'mitsubishi',\n",
       " 'chrysler',\n",
       " 'honda',\n",
       " 'jaguar',\n",
       " 'porsche',\n",
       " 'saab',\n",
       " 'subaru',\n",
       " 'lada',\n",
       " 'lancia',\n",
       " 'trabant',\n",
       " 'land_rover',\n",
       " 'rover',\n",
       " 'daihatsu']"
      ]
     },
     "execution_count": 96,
     "metadata": {},
     "output_type": "execute_result"
    }
   ],
   "source": [
    " list(df3[i].unique())"
   ]
  },
  {
   "cell_type": "code",
   "execution_count": 44,
   "metadata": {},
   "outputs": [],
   "source": [
    "df4=pd.get_dummies(df3,columns=['seller','abtest','gearbox_random'],drop_first=True)"
   ]
  },
  {
   "cell_type": "code",
   "execution_count": 45,
   "metadata": {},
   "outputs": [
    {
     "data": {
      "text/html": [
       "<div>\n",
       "<style scoped>\n",
       "    .dataframe tbody tr th:only-of-type {\n",
       "        vertical-align: middle;\n",
       "    }\n",
       "\n",
       "    .dataframe tbody tr th {\n",
       "        vertical-align: top;\n",
       "    }\n",
       "\n",
       "    .dataframe thead th {\n",
       "        text-align: right;\n",
       "    }\n",
       "</style>\n",
       "<table border=\"1\" class=\"dataframe\">\n",
       "  <thead>\n",
       "    <tr style=\"text-align: right;\">\n",
       "      <th></th>\n",
       "      <th>price</th>\n",
       "      <th>powerPS</th>\n",
       "      <th>kilometer</th>\n",
       "      <th>brand</th>\n",
       "      <th>totalyears</th>\n",
       "      <th>fuelType_random</th>\n",
       "      <th>vehicleType_random</th>\n",
       "      <th>abtest_test</th>\n",
       "      <th>gearbox_random_manual</th>\n",
       "    </tr>\n",
       "  </thead>\n",
       "  <tbody>\n",
       "    <tr>\n",
       "      <th>0</th>\n",
       "      <td>4450</td>\n",
       "      <td>150</td>\n",
       "      <td>150000</td>\n",
       "      <td>bmw</td>\n",
       "      <td>17</td>\n",
       "      <td>diesel</td>\n",
       "      <td>limousine</td>\n",
       "      <td>1</td>\n",
       "      <td>1</td>\n",
       "    </tr>\n",
       "    <tr>\n",
       "      <th>1</th>\n",
       "      <td>13299</td>\n",
       "      <td>163</td>\n",
       "      <td>150000</td>\n",
       "      <td>volvo</td>\n",
       "      <td>15</td>\n",
       "      <td>diesel</td>\n",
       "      <td>suv</td>\n",
       "      <td>0</td>\n",
       "      <td>1</td>\n",
       "    </tr>\n",
       "    <tr>\n",
       "      <th>3</th>\n",
       "      <td>4500</td>\n",
       "      <td>86</td>\n",
       "      <td>60000</td>\n",
       "      <td>seat</td>\n",
       "      <td>14</td>\n",
       "      <td>petrol</td>\n",
       "      <td>small car</td>\n",
       "      <td>0</td>\n",
       "      <td>1</td>\n",
       "    </tr>\n",
       "    <tr>\n",
       "      <th>8</th>\n",
       "      <td>4680</td>\n",
       "      <td>122</td>\n",
       "      <td>150000</td>\n",
       "      <td>opel</td>\n",
       "      <td>15</td>\n",
       "      <td>petrol</td>\n",
       "      <td>station wagon</td>\n",
       "      <td>1</td>\n",
       "      <td>1</td>\n",
       "    </tr>\n",
       "    <tr>\n",
       "      <th>9</th>\n",
       "      <td>8340</td>\n",
       "      <td>140</td>\n",
       "      <td>125000</td>\n",
       "      <td>skoda</td>\n",
       "      <td>15</td>\n",
       "      <td>diesel</td>\n",
       "      <td>limousine</td>\n",
       "      <td>1</td>\n",
       "      <td>0</td>\n",
       "    </tr>\n",
       "  </tbody>\n",
       "</table>\n",
       "</div>"
      ],
      "text/plain": [
       "   price  powerPS  kilometer  brand  totalyears fuelType_random  \\\n",
       "0   4450      150     150000    bmw          17          diesel   \n",
       "1  13299      163     150000  volvo          15          diesel   \n",
       "3   4500       86      60000   seat          14          petrol   \n",
       "8   4680      122     150000   opel          15          petrol   \n",
       "9   8340      140     125000  skoda          15          diesel   \n",
       "\n",
       "  vehicleType_random  abtest_test  gearbox_random_manual  \n",
       "0          limousine            1                      1  \n",
       "1                suv            0                      1  \n",
       "3          small car            0                      1  \n",
       "8      station wagon            1                      1  \n",
       "9          limousine            1                      0  "
      ]
     },
     "execution_count": 45,
     "metadata": {},
     "output_type": "execute_result"
    }
   ],
   "source": [
    "df4.head()"
   ]
  },
  {
   "cell_type": "code",
   "execution_count": 47,
   "metadata": {},
   "outputs": [],
   "source": [
    "from sklearn.preprocessing import LabelEncoder\n",
    "le = LabelEncoder()\n",
    "df4.vehicleType_random= le.fit_transform(df4.vehicleType_random.values)\n",
    "df4.fuelType_random= le.fit_transform(df4.fuelType_random.values)\n",
    "df4.brand= le.fit_transform(df4.brand.values)"
   ]
  },
  {
   "cell_type": "code",
   "execution_count": 48,
   "metadata": {},
   "outputs": [
    {
     "data": {
      "text/html": [
       "<div>\n",
       "<style scoped>\n",
       "    .dataframe tbody tr th:only-of-type {\n",
       "        vertical-align: middle;\n",
       "    }\n",
       "\n",
       "    .dataframe tbody tr th {\n",
       "        vertical-align: top;\n",
       "    }\n",
       "\n",
       "    .dataframe thead th {\n",
       "        text-align: right;\n",
       "    }\n",
       "</style>\n",
       "<table border=\"1\" class=\"dataframe\">\n",
       "  <thead>\n",
       "    <tr style=\"text-align: right;\">\n",
       "      <th></th>\n",
       "      <th>price</th>\n",
       "      <th>powerPS</th>\n",
       "      <th>kilometer</th>\n",
       "      <th>brand</th>\n",
       "      <th>totalyears</th>\n",
       "      <th>fuelType_random</th>\n",
       "      <th>vehicleType_random</th>\n",
       "      <th>abtest_test</th>\n",
       "      <th>gearbox_random_manual</th>\n",
       "    </tr>\n",
       "  </thead>\n",
       "  <tbody>\n",
       "    <tr>\n",
       "      <th>0</th>\n",
       "      <td>4450</td>\n",
       "      <td>150</td>\n",
       "      <td>150000</td>\n",
       "      <td>2</td>\n",
       "      <td>17</td>\n",
       "      <td>1</td>\n",
       "      <td>3</td>\n",
       "      <td>1</td>\n",
       "      <td>1</td>\n",
       "    </tr>\n",
       "    <tr>\n",
       "      <th>1</th>\n",
       "      <td>13299</td>\n",
       "      <td>163</td>\n",
       "      <td>150000</td>\n",
       "      <td>38</td>\n",
       "      <td>15</td>\n",
       "      <td>1</td>\n",
       "      <td>7</td>\n",
       "      <td>0</td>\n",
       "      <td>1</td>\n",
       "    </tr>\n",
       "    <tr>\n",
       "      <th>3</th>\n",
       "      <td>4500</td>\n",
       "      <td>86</td>\n",
       "      <td>60000</td>\n",
       "      <td>29</td>\n",
       "      <td>14</td>\n",
       "      <td>6</td>\n",
       "      <td>5</td>\n",
       "      <td>0</td>\n",
       "      <td>1</td>\n",
       "    </tr>\n",
       "    <tr>\n",
       "      <th>8</th>\n",
       "      <td>4680</td>\n",
       "      <td>122</td>\n",
       "      <td>150000</td>\n",
       "      <td>23</td>\n",
       "      <td>15</td>\n",
       "      <td>6</td>\n",
       "      <td>6</td>\n",
       "      <td>1</td>\n",
       "      <td>1</td>\n",
       "    </tr>\n",
       "    <tr>\n",
       "      <th>9</th>\n",
       "      <td>8340</td>\n",
       "      <td>140</td>\n",
       "      <td>125000</td>\n",
       "      <td>30</td>\n",
       "      <td>15</td>\n",
       "      <td>1</td>\n",
       "      <td>3</td>\n",
       "      <td>1</td>\n",
       "      <td>0</td>\n",
       "    </tr>\n",
       "  </tbody>\n",
       "</table>\n",
       "</div>"
      ],
      "text/plain": [
       "   price  powerPS  kilometer  brand  totalyears  fuelType_random  \\\n",
       "0   4450      150     150000      2          17                1   \n",
       "1  13299      163     150000     38          15                1   \n",
       "3   4500       86      60000     29          14                6   \n",
       "8   4680      122     150000     23          15                6   \n",
       "9   8340      140     125000     30          15                1   \n",
       "\n",
       "   vehicleType_random  abtest_test  gearbox_random_manual  \n",
       "0                   3            1                      1  \n",
       "1                   7            0                      1  \n",
       "3                   5            0                      1  \n",
       "8                   6            1                      1  \n",
       "9                   3            1                      0  "
      ]
     },
     "execution_count": 48,
     "metadata": {},
     "output_type": "execute_result"
    }
   ],
   "source": [
    "df4.head()"
   ]
  },
  {
   "cell_type": "code",
   "execution_count": 49,
   "metadata": {},
   "outputs": [
    {
     "data": {
      "text/html": [
       "<div>\n",
       "<style scoped>\n",
       "    .dataframe tbody tr th:only-of-type {\n",
       "        vertical-align: middle;\n",
       "    }\n",
       "\n",
       "    .dataframe tbody tr th {\n",
       "        vertical-align: top;\n",
       "    }\n",
       "\n",
       "    .dataframe thead th {\n",
       "        text-align: right;\n",
       "    }\n",
       "</style>\n",
       "<table border=\"1\" class=\"dataframe\">\n",
       "  <thead>\n",
       "    <tr style=\"text-align: right;\">\n",
       "      <th></th>\n",
       "      <th>price</th>\n",
       "      <th>powerPS</th>\n",
       "      <th>kilometer</th>\n",
       "      <th>brand</th>\n",
       "      <th>totalyears</th>\n",
       "      <th>fuelType_random</th>\n",
       "      <th>vehicleType_random</th>\n",
       "      <th>abtest_test</th>\n",
       "      <th>gearbox_random_manual</th>\n",
       "    </tr>\n",
       "  </thead>\n",
       "  <tbody>\n",
       "    <tr>\n",
       "      <th>price</th>\n",
       "      <td>1.000000</td>\n",
       "      <td>0.255919</td>\n",
       "      <td>-0.196077</td>\n",
       "      <td>-0.079388</td>\n",
       "      <td>-0.196989</td>\n",
       "      <td>-0.089670</td>\n",
       "      <td>0.002777</td>\n",
       "      <td>-0.003230</td>\n",
       "      <td>-0.114622</td>\n",
       "    </tr>\n",
       "    <tr>\n",
       "      <th>powerPS</th>\n",
       "      <td>0.255919</td>\n",
       "      <td>1.000000</td>\n",
       "      <td>0.457068</td>\n",
       "      <td>-0.339058</td>\n",
       "      <td>0.128586</td>\n",
       "      <td>-0.175322</td>\n",
       "      <td>-0.000098</td>\n",
       "      <td>-0.015691</td>\n",
       "      <td>-0.367106</td>\n",
       "    </tr>\n",
       "    <tr>\n",
       "      <th>kilometer</th>\n",
       "      <td>-0.196077</td>\n",
       "      <td>0.457068</td>\n",
       "      <td>1.000000</td>\n",
       "      <td>-0.126661</td>\n",
       "      <td>0.209078</td>\n",
       "      <td>-0.428219</td>\n",
       "      <td>-0.028258</td>\n",
       "      <td>-0.007023</td>\n",
       "      <td>-0.153498</td>\n",
       "    </tr>\n",
       "    <tr>\n",
       "      <th>brand</th>\n",
       "      <td>-0.079388</td>\n",
       "      <td>-0.339058</td>\n",
       "      <td>-0.126661</td>\n",
       "      <td>1.000000</td>\n",
       "      <td>-0.073177</td>\n",
       "      <td>-0.000325</td>\n",
       "      <td>-0.071527</td>\n",
       "      <td>0.012738</td>\n",
       "      <td>0.086964</td>\n",
       "    </tr>\n",
       "    <tr>\n",
       "      <th>totalyears</th>\n",
       "      <td>-0.196989</td>\n",
       "      <td>0.128586</td>\n",
       "      <td>0.209078</td>\n",
       "      <td>-0.073177</td>\n",
       "      <td>1.000000</td>\n",
       "      <td>0.096389</td>\n",
       "      <td>-0.151737</td>\n",
       "      <td>-0.000099</td>\n",
       "      <td>-0.087424</td>\n",
       "    </tr>\n",
       "    <tr>\n",
       "      <th>fuelType_random</th>\n",
       "      <td>-0.089670</td>\n",
       "      <td>-0.175322</td>\n",
       "      <td>-0.428219</td>\n",
       "      <td>-0.000325</td>\n",
       "      <td>0.096389</td>\n",
       "      <td>1.000000</td>\n",
       "      <td>-0.085893</td>\n",
       "      <td>-0.000297</td>\n",
       "      <td>0.135142</td>\n",
       "    </tr>\n",
       "    <tr>\n",
       "      <th>vehicleType_random</th>\n",
       "      <td>0.002777</td>\n",
       "      <td>-0.000098</td>\n",
       "      <td>-0.028258</td>\n",
       "      <td>-0.071527</td>\n",
       "      <td>-0.151737</td>\n",
       "      <td>-0.085893</td>\n",
       "      <td>1.000000</td>\n",
       "      <td>0.004266</td>\n",
       "      <td>-0.046483</td>\n",
       "    </tr>\n",
       "    <tr>\n",
       "      <th>abtest_test</th>\n",
       "      <td>-0.003230</td>\n",
       "      <td>-0.015691</td>\n",
       "      <td>-0.007023</td>\n",
       "      <td>0.012738</td>\n",
       "      <td>-0.000099</td>\n",
       "      <td>-0.000297</td>\n",
       "      <td>0.004266</td>\n",
       "      <td>1.000000</td>\n",
       "      <td>-0.002253</td>\n",
       "    </tr>\n",
       "    <tr>\n",
       "      <th>gearbox_random_manual</th>\n",
       "      <td>-0.114622</td>\n",
       "      <td>-0.367106</td>\n",
       "      <td>-0.153498</td>\n",
       "      <td>0.086964</td>\n",
       "      <td>-0.087424</td>\n",
       "      <td>0.135142</td>\n",
       "      <td>-0.046483</td>\n",
       "      <td>-0.002253</td>\n",
       "      <td>1.000000</td>\n",
       "    </tr>\n",
       "  </tbody>\n",
       "</table>\n",
       "</div>"
      ],
      "text/plain": [
       "                          price   powerPS  kilometer     brand  totalyears  \\\n",
       "price                  1.000000  0.255919  -0.196077 -0.079388   -0.196989   \n",
       "powerPS                0.255919  1.000000   0.457068 -0.339058    0.128586   \n",
       "kilometer             -0.196077  0.457068   1.000000 -0.126661    0.209078   \n",
       "brand                 -0.079388 -0.339058  -0.126661  1.000000   -0.073177   \n",
       "totalyears            -0.196989  0.128586   0.209078 -0.073177    1.000000   \n",
       "fuelType_random       -0.089670 -0.175322  -0.428219 -0.000325    0.096389   \n",
       "vehicleType_random     0.002777 -0.000098  -0.028258 -0.071527   -0.151737   \n",
       "abtest_test           -0.003230 -0.015691  -0.007023  0.012738   -0.000099   \n",
       "gearbox_random_manual -0.114622 -0.367106  -0.153498  0.086964   -0.087424   \n",
       "\n",
       "                       fuelType_random  vehicleType_random  abtest_test  \\\n",
       "price                        -0.089670            0.002777    -0.003230   \n",
       "powerPS                      -0.175322           -0.000098    -0.015691   \n",
       "kilometer                    -0.428219           -0.028258    -0.007023   \n",
       "brand                        -0.000325           -0.071527     0.012738   \n",
       "totalyears                    0.096389           -0.151737    -0.000099   \n",
       "fuelType_random               1.000000           -0.085893    -0.000297   \n",
       "vehicleType_random           -0.085893            1.000000     0.004266   \n",
       "abtest_test                  -0.000297            0.004266     1.000000   \n",
       "gearbox_random_manual         0.135142           -0.046483    -0.002253   \n",
       "\n",
       "                       gearbox_random_manual  \n",
       "price                              -0.114622  \n",
       "powerPS                            -0.367106  \n",
       "kilometer                          -0.153498  \n",
       "brand                               0.086964  \n",
       "totalyears                         -0.087424  \n",
       "fuelType_random                     0.135142  \n",
       "vehicleType_random                 -0.046483  \n",
       "abtest_test                        -0.002253  \n",
       "gearbox_random_manual               1.000000  "
      ]
     },
     "execution_count": 49,
     "metadata": {},
     "output_type": "execute_result"
    }
   ],
   "source": [
    "df4.corr()"
   ]
  },
  {
   "cell_type": "code",
   "execution_count": 50,
   "metadata": {},
   "outputs": [],
   "source": [
    "X=df4.iloc[:,1:]\n",
    "y=df4.iloc[:,0]"
   ]
  },
  {
   "cell_type": "code",
   "execution_count": 51,
   "metadata": {},
   "outputs": [
    {
     "data": {
      "text/plain": [
       "((13562, 8), (13562,))"
      ]
     },
     "execution_count": 51,
     "metadata": {},
     "output_type": "execute_result"
    }
   ],
   "source": [
    "X.shape,y.shape"
   ]
  },
  {
   "cell_type": "code",
   "execution_count": 78,
   "metadata": {},
   "outputs": [
    {
     "data": {
      "text/plain": [
       "((9493, 8), (4069, 8))"
      ]
     },
     "execution_count": 78,
     "metadata": {},
     "output_type": "execute_result"
    }
   ],
   "source": [
    "from sklearn.model_selection import train_test_split\n",
    "X_train, X_test, y_train, y_test = train_test_split(X,y,test_size=0.3,random_state=0)\n",
    "X_train.shape, X_test.shape"
   ]
  },
  {
   "cell_type": "code",
   "execution_count": 53,
   "metadata": {},
   "outputs": [
    {
     "name": "stderr",
     "output_type": "stream",
     "text": [
      "C:\\Users\\anudeep\\anaconda3\\lib\\site-packages\\ipykernel_launcher.py:4: SettingWithCopyWarning: \n",
      "A value is trying to be set on a copy of a slice from a DataFrame.\n",
      "Try using .loc[row_indexer,col_indexer] = value instead\n",
      "\n",
      "See the caveats in the documentation: https://pandas.pydata.org/pandas-docs/stable/user_guide/indexing.html#returning-a-view-versus-a-copy\n",
      "  after removing the cwd from sys.path.\n",
      "C:\\Users\\anudeep\\anaconda3\\lib\\site-packages\\ipykernel_launcher.py:5: SettingWithCopyWarning: \n",
      "A value is trying to be set on a copy of a slice from a DataFrame.\n",
      "Try using .loc[row_indexer,col_indexer] = value instead\n",
      "\n",
      "See the caveats in the documentation: https://pandas.pydata.org/pandas-docs/stable/user_guide/indexing.html#returning-a-view-versus-a-copy\n",
      "  \"\"\"\n"
     ]
    }
   ],
   "source": [
    "from sklearn.preprocessing import StandardScaler\n",
    "norm_p=StandardScaler()\n",
    "norm_p.fit(X_train['powerPS'].values.reshape(-1,1))\n",
    "X_train['powerPS']=norm_p.transform(X_train['powerPS'].values.reshape(-1,1))\n",
    "X_test['powerPS']=norm_p.transform(X_test['powerPS'].values.reshape(-1,1))"
   ]
  },
  {
   "cell_type": "code",
   "execution_count": 54,
   "metadata": {},
   "outputs": [
    {
     "name": "stderr",
     "output_type": "stream",
     "text": [
      "C:\\Users\\anudeep\\anaconda3\\lib\\site-packages\\ipykernel_launcher.py:2: SettingWithCopyWarning: \n",
      "A value is trying to be set on a copy of a slice from a DataFrame.\n",
      "Try using .loc[row_indexer,col_indexer] = value instead\n",
      "\n",
      "See the caveats in the documentation: https://pandas.pydata.org/pandas-docs/stable/user_guide/indexing.html#returning-a-view-versus-a-copy\n",
      "  \n",
      "C:\\Users\\anudeep\\anaconda3\\lib\\site-packages\\ipykernel_launcher.py:3: SettingWithCopyWarning: \n",
      "A value is trying to be set on a copy of a slice from a DataFrame.\n",
      "Try using .loc[row_indexer,col_indexer] = value instead\n",
      "\n",
      "See the caveats in the documentation: https://pandas.pydata.org/pandas-docs/stable/user_guide/indexing.html#returning-a-view-versus-a-copy\n",
      "  This is separate from the ipykernel package so we can avoid doing imports until\n"
     ]
    }
   ],
   "source": [
    "norm_p.fit(X_train['kilometer'].values.reshape(-1,1))\n",
    "X_train['kilometer']=norm_p.transform(X_train['kilometer'].values.reshape(-1,1))\n",
    "X_test['kilometer']=norm_p.transform(X_test['kilometer'].values.reshape(-1,1))"
   ]
  },
  {
   "cell_type": "code",
   "execution_count": 79,
   "metadata": {},
   "outputs": [
    {
     "data": {
      "text/html": [
       "<div>\n",
       "<style scoped>\n",
       "    .dataframe tbody tr th:only-of-type {\n",
       "        vertical-align: middle;\n",
       "    }\n",
       "\n",
       "    .dataframe tbody tr th {\n",
       "        vertical-align: top;\n",
       "    }\n",
       "\n",
       "    .dataframe thead th {\n",
       "        text-align: right;\n",
       "    }\n",
       "</style>\n",
       "<table border=\"1\" class=\"dataframe\">\n",
       "  <thead>\n",
       "    <tr style=\"text-align: right;\">\n",
       "      <th></th>\n",
       "      <th>powerPS</th>\n",
       "      <th>kilometer</th>\n",
       "      <th>brand</th>\n",
       "      <th>totalyears</th>\n",
       "      <th>fuelType_random</th>\n",
       "      <th>vehicleType_random</th>\n",
       "      <th>abtest_test</th>\n",
       "      <th>gearbox_random_manual</th>\n",
       "    </tr>\n",
       "  </thead>\n",
       "  <tbody>\n",
       "    <tr>\n",
       "      <th>7877</th>\n",
       "      <td>150</td>\n",
       "      <td>150000</td>\n",
       "      <td>2</td>\n",
       "      <td>24</td>\n",
       "      <td>6</td>\n",
       "      <td>1</td>\n",
       "      <td>0</td>\n",
       "      <td>1</td>\n",
       "    </tr>\n",
       "    <tr>\n",
       "      <th>32989</th>\n",
       "      <td>192</td>\n",
       "      <td>90000</td>\n",
       "      <td>18</td>\n",
       "      <td>14</td>\n",
       "      <td>6</td>\n",
       "      <td>2</td>\n",
       "      <td>0</td>\n",
       "      <td>1</td>\n",
       "    </tr>\n",
       "    <tr>\n",
       "      <th>18121</th>\n",
       "      <td>208</td>\n",
       "      <td>125000</td>\n",
       "      <td>32</td>\n",
       "      <td>14</td>\n",
       "      <td>6</td>\n",
       "      <td>3</td>\n",
       "      <td>0</td>\n",
       "      <td>1</td>\n",
       "    </tr>\n",
       "    <tr>\n",
       "      <th>126</th>\n",
       "      <td>136</td>\n",
       "      <td>150000</td>\n",
       "      <td>3</td>\n",
       "      <td>11</td>\n",
       "      <td>6</td>\n",
       "      <td>7</td>\n",
       "      <td>1</td>\n",
       "      <td>1</td>\n",
       "    </tr>\n",
       "    <tr>\n",
       "      <th>35351</th>\n",
       "      <td>222</td>\n",
       "      <td>150000</td>\n",
       "      <td>37</td>\n",
       "      <td>15</td>\n",
       "      <td>1</td>\n",
       "      <td>3</td>\n",
       "      <td>0</td>\n",
       "      <td>0</td>\n",
       "    </tr>\n",
       "  </tbody>\n",
       "</table>\n",
       "</div>"
      ],
      "text/plain": [
       "       powerPS  kilometer  brand  totalyears  fuelType_random  \\\n",
       "7877       150     150000      2          24                6   \n",
       "32989      192      90000     18          14                6   \n",
       "18121      208     125000     32          14                6   \n",
       "126        136     150000      3          11                6   \n",
       "35351      222     150000     37          15                1   \n",
       "\n",
       "       vehicleType_random  abtest_test  gearbox_random_manual  \n",
       "7877                    1            0                      1  \n",
       "32989                   2            0                      1  \n",
       "18121                   3            0                      1  \n",
       "126                     7            1                      1  \n",
       "35351                   3            0                      0  "
      ]
     },
     "execution_count": 79,
     "metadata": {},
     "output_type": "execute_result"
    }
   ],
   "source": [
    "X_train.head()"
   ]
  },
  {
   "cell_type": "code",
   "execution_count": 80,
   "metadata": {},
   "outputs": [],
   "source": [
    "from sklearn.model_selection import RandomizedSearchCV\n",
    "# Number of trees in random forest\n",
    "n_estimators = [int(x) for x in np.linspace(start = 100, stop = 500, num = 8)]\n",
    "# Maximum number of levels in tree\n",
    "max_depth = [int(x) for x in np.linspace(5, 15, num = 3)]\n",
    "# Minimum number of samples required to split a node\n",
    "min_samples_split = [2, 5, 10, 15,50]\n",
    "# Minimum number of samples required at each leaf node\n",
    "min_samples_leaf = [1, 2, 5, 10]"
   ]
  },
  {
   "cell_type": "code",
   "execution_count": 81,
   "metadata": {},
   "outputs": [],
   "source": [
    "grid = {'n_estimators': n_estimators,\n",
    "               'max_depth': max_depth,\n",
    "               'min_samples_split': min_samples_split,\n",
    "               'min_samples_leaf': min_samples_leaf}"
   ]
  },
  {
   "cell_type": "code",
   "execution_count": 82,
   "metadata": {},
   "outputs": [],
   "source": [
    "from sklearn.ensemble import RandomForestRegressor\n",
    "reg=RandomForestRegressor()"
   ]
  },
  {
   "cell_type": "code",
   "execution_count": 83,
   "metadata": {},
   "outputs": [],
   "source": [
    "rf_random=RandomizedSearchCV(estimator=reg,param_distributions=grid,scoring='neg_mean_absolute_error',return_train_score=True,n_iter=5,cv=3,verbose=2,random_state=2)"
   ]
  },
  {
   "cell_type": "code",
   "execution_count": 84,
   "metadata": {},
   "outputs": [
    {
     "name": "stdout",
     "output_type": "stream",
     "text": [
      "Fitting 3 folds for each of 5 candidates, totalling 15 fits\n",
      "[CV] n_estimators=214, min_samples_split=10, min_samples_leaf=5, max_depth=15 \n"
     ]
    },
    {
     "name": "stderr",
     "output_type": "stream",
     "text": [
      "[Parallel(n_jobs=1)]: Using backend SequentialBackend with 1 concurrent workers.\n"
     ]
    },
    {
     "name": "stdout",
     "output_type": "stream",
     "text": [
      "[CV]  n_estimators=214, min_samples_split=10, min_samples_leaf=5, max_depth=15, total=   2.5s\n",
      "[CV] n_estimators=214, min_samples_split=10, min_samples_leaf=5, max_depth=15 \n"
     ]
    },
    {
     "name": "stderr",
     "output_type": "stream",
     "text": [
      "[Parallel(n_jobs=1)]: Done   1 out of   1 | elapsed:    2.6s remaining:    0.0s\n"
     ]
    },
    {
     "name": "stdout",
     "output_type": "stream",
     "text": [
      "[CV]  n_estimators=214, min_samples_split=10, min_samples_leaf=5, max_depth=15, total=   2.4s\n",
      "[CV] n_estimators=214, min_samples_split=10, min_samples_leaf=5, max_depth=15 \n",
      "[CV]  n_estimators=214, min_samples_split=10, min_samples_leaf=5, max_depth=15, total=   2.6s\n",
      "[CV] n_estimators=385, min_samples_split=50, min_samples_leaf=5, max_depth=10 \n",
      "[CV]  n_estimators=385, min_samples_split=50, min_samples_leaf=5, max_depth=10, total=   3.6s\n",
      "[CV] n_estimators=385, min_samples_split=50, min_samples_leaf=5, max_depth=10 \n",
      "[CV]  n_estimators=385, min_samples_split=50, min_samples_leaf=5, max_depth=10, total=   3.3s\n",
      "[CV] n_estimators=385, min_samples_split=50, min_samples_leaf=5, max_depth=10 \n",
      "[CV]  n_estimators=385, min_samples_split=50, min_samples_leaf=5, max_depth=10, total=   3.3s\n",
      "[CV] n_estimators=157, min_samples_split=5, min_samples_leaf=2, max_depth=15 \n",
      "[CV]  n_estimators=157, min_samples_split=5, min_samples_leaf=2, max_depth=15, total=   2.1s\n",
      "[CV] n_estimators=157, min_samples_split=5, min_samples_leaf=2, max_depth=15 \n",
      "[CV]  n_estimators=157, min_samples_split=5, min_samples_leaf=2, max_depth=15, total=   2.2s\n",
      "[CV] n_estimators=157, min_samples_split=5, min_samples_leaf=2, max_depth=15 \n",
      "[CV]  n_estimators=157, min_samples_split=5, min_samples_leaf=2, max_depth=15, total=   2.1s\n",
      "[CV] n_estimators=500, min_samples_split=10, min_samples_leaf=2, max_depth=10 \n",
      "[CV]  n_estimators=500, min_samples_split=10, min_samples_leaf=2, max_depth=10, total=   4.9s\n",
      "[CV] n_estimators=500, min_samples_split=10, min_samples_leaf=2, max_depth=10 \n",
      "[CV]  n_estimators=500, min_samples_split=10, min_samples_leaf=2, max_depth=10, total=   4.9s\n",
      "[CV] n_estimators=500, min_samples_split=10, min_samples_leaf=2, max_depth=10 \n",
      "[CV]  n_estimators=500, min_samples_split=10, min_samples_leaf=2, max_depth=10, total=   4.9s\n",
      "[CV] n_estimators=157, min_samples_split=15, min_samples_leaf=5, max_depth=15 \n",
      "[CV]  n_estimators=157, min_samples_split=15, min_samples_leaf=5, max_depth=15, total=   1.7s\n",
      "[CV] n_estimators=157, min_samples_split=15, min_samples_leaf=5, max_depth=15 \n",
      "[CV]  n_estimators=157, min_samples_split=15, min_samples_leaf=5, max_depth=15, total=   1.6s\n",
      "[CV] n_estimators=157, min_samples_split=15, min_samples_leaf=5, max_depth=15 \n",
      "[CV]  n_estimators=157, min_samples_split=15, min_samples_leaf=5, max_depth=15, total=   1.7s\n"
     ]
    },
    {
     "name": "stderr",
     "output_type": "stream",
     "text": [
      "[Parallel(n_jobs=1)]: Done  15 out of  15 | elapsed:   47.2s finished\n"
     ]
    },
    {
     "data": {
      "text/plain": [
       "RandomizedSearchCV(cv=3, error_score=nan,\n",
       "                   estimator=RandomForestRegressor(bootstrap=True,\n",
       "                                                   ccp_alpha=0.0,\n",
       "                                                   criterion='mse',\n",
       "                                                   max_depth=None,\n",
       "                                                   max_features='auto',\n",
       "                                                   max_leaf_nodes=None,\n",
       "                                                   max_samples=None,\n",
       "                                                   min_impurity_decrease=0.0,\n",
       "                                                   min_impurity_split=None,\n",
       "                                                   min_samples_leaf=1,\n",
       "                                                   min_samples_split=2,\n",
       "                                                   min_weight_fraction_leaf=0.0,\n",
       "                                                   n_estimators=100,\n",
       "                                                   n_jobs=None, oob_score=False,\n",
       "                                                   random_state=None, verbose=0,\n",
       "                                                   warm_start=False),\n",
       "                   iid='deprecated', n_iter=5, n_jobs=None,\n",
       "                   param_distributions={'max_depth': [5, 10, 15],\n",
       "                                        'min_samples_leaf': [1, 2, 5, 10],\n",
       "                                        'min_samples_split': [2, 5, 10, 15, 50],\n",
       "                                        'n_estimators': [100, 157, 214, 271,\n",
       "                                                         328, 385, 442, 500]},\n",
       "                   pre_dispatch='2*n_jobs', random_state=2, refit=True,\n",
       "                   return_train_score=True, scoring='neg_mean_absolute_error',\n",
       "                   verbose=2)"
      ]
     },
     "execution_count": 84,
     "metadata": {},
     "output_type": "execute_result"
    }
   ],
   "source": [
    "rf_random.fit(X_train,y_train)"
   ]
  },
  {
   "cell_type": "code",
   "execution_count": 85,
   "metadata": {},
   "outputs": [
    {
     "data": {
      "text/plain": [
       "{'n_estimators': 157,\n",
       " 'min_samples_split': 5,\n",
       " 'min_samples_leaf': 2,\n",
       " 'max_depth': 15}"
      ]
     },
     "execution_count": 85,
     "metadata": {},
     "output_type": "execute_result"
    }
   ],
   "source": [
    "rf_random.best_params_"
   ]
  },
  {
   "cell_type": "code",
   "execution_count": 86,
   "metadata": {},
   "outputs": [
    {
     "data": {
      "text/plain": [
       "-1339.4357916701435"
      ]
     },
     "execution_count": 86,
     "metadata": {},
     "output_type": "execute_result"
    }
   ],
   "source": [
    "rf_random.best_score_"
   ]
  },
  {
   "cell_type": "code",
   "execution_count": 87,
   "metadata": {},
   "outputs": [],
   "source": [
    "y_pred=rf_random.predict(X_test)"
   ]
  },
  {
   "cell_type": "code",
   "execution_count": 88,
   "metadata": {},
   "outputs": [
    {
     "data": {
      "text/plain": [
       "<matplotlib.axes._subplots.AxesSubplot at 0x2723afb1a88>"
      ]
     },
     "execution_count": 88,
     "metadata": {},
     "output_type": "execute_result"
    },
    {
     "data": {
      "image/png": "[encoded data removed]",
      "text/plain": [
       "<Figure size 432x288 with 1 Axes>"
      ]
     },
     "metadata": {
      "needs_background": "light"
     },
     "output_type": "display_data"
    }
   ],
   "source": [
    "sns.distplot(y_test-y_pred)"
   ]
  },
  {
   "cell_type": "code",
   "execution_count": 89,
   "metadata": {},
   "outputs": [],
   "source": [
    "errors = abs(y_test - y_pred)"
   ]
  },
  {
   "cell_type": "code",
   "execution_count": 90,
   "metadata": {},
   "outputs": [
    {
     "name": "stdout",
     "output_type": "stream",
     "text": [
      "Metrics for Random Forest Trained on Original Data\n",
      "Average absolute error: 1292.54 degrees.\n"
     ]
    }
   ],
   "source": [
    "print('Metrics for Random Forest Trained on Original Data')\n",
    "print('Average absolute error:', round(np.mean(errors), 2), 'degrees.')"
   ]
  },
  {
   "cell_type": "code",
   "execution_count": 91,
   "metadata": {},
   "outputs": [],
   "source": [
    "mape = 100 * (errors / y_test)"
   ]
  },
  {
   "cell_type": "code",
   "execution_count": 92,
   "metadata": {},
   "outputs": [
    {
     "name": "stdout",
     "output_type": "stream",
     "text": [
      "Accuracy: 82.34 %.\n"
     ]
    }
   ],
   "source": [
    "# Calculate and display accuracy\n",
    "accuracy = 100 - np.mean(mape)\n",
    "print('Accuracy:', round(accuracy, 2), '%.')"
   ]
  },
  {
   "cell_type": "code",
   "execution_count": 93,
   "metadata": {},
   "outputs": [
    {
     "name": "stdout",
     "output_type": "stream",
     "text": [
      "MAE: 1292.5361365454721\n",
      "MSE: 3004383.0332207032\n",
      "RMSE: 1733.3156184667303\n"
     ]
    }
   ],
   "source": [
    "from sklearn import metrics\n",
    "print('MAE:', metrics.mean_absolute_error(y_test, y_pred))\n",
    "print('MSE:', metrics.mean_squared_error(y_test, y_pred))\n",
    "print('RMSE:', np.sqrt(metrics.mean_squared_error(y_test, y_pred)))"
   ]
  },
  {
   "cell_type": "code",
   "execution_count": 94,
   "metadata": {},
   "outputs": [],
   "source": [
    "import pickle\n",
    "# open a file, where you ant to store the data\n",
    "file = open('random_forest_regression_model.pkl', 'wb')\n",
    "\n",
    "# dump information to that file\n",
    "pickle.dump(rf_random, file)"
   ]
  },
  {
   "cell_type": "code",
   "execution_count": null,
   "metadata": {},
   "outputs": [],
   "source": []
  }
 ],
 "metadata": {
  "kernelspec": {
   "display_name": "Python 3",
   "language": "python",
   "name": "python3"
  },
  "language_info": {
   "codemirror_mode": {
    "name": "ipython",
    "version": 3
   },
   "file_extension": ".py",
   "mimetype": "text/x-python",
   "name": "python",
   "nbconvert_exporter": "python",
   "pygments_lexer": "ipython3",
   "version": "3.7.6"
  }
 },
 "nbformat": 4,
 "nbformat_minor": 4
}
